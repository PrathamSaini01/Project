{
 "cells": [
  {
   "cell_type": "code",
   "execution_count": 9,
   "id": "d8958b67-6924-4e4b-8f66-15575d33af58",
   "metadata": {},
   "outputs": [
    {
     "name": "stdout",
     "output_type": "stream",
     "text": [
      "Original shape: (506, 13)\n",
      "Reduced shape after PCA: (506, 9)\n",
      "Explained variance ratio: [0.47129606 0.11025193 0.0955859  0.06596732 0.06421661 0.05056978\n",
      " 0.04118124 0.03046902 0.02130333]\n",
      "R² Score: 0.598\n",
      "Mean Squared Error: 29.510\n",
      "Model saved to model.pkl\n"
     ]
    }
   ],
   "source": [
    "import numpy as np\n",
    "import matplotlib.pyplot as plt\n",
    "from sklearn.datasets import fetch_openml\n",
    "from sklearn.preprocessing import StandardScaler\n",
    "from sklearn.decomposition import PCA\n",
    "from sklearn.linear_model import LinearRegression\n",
    "from sklearn.model_selection import train_test_split\n",
    "from sklearn.metrics import mean_squared_error, r2_score\n",
    "import io, base64\n",
    "import joblib\n",
    "\n",
    "# Load Boston Housing dataset\n",
    "boston = fetch_openml(name=\"boston\", version=1, as_frame=True)\n",
    "X = boston.data\n",
    "y = boston.target\n",
    "\n",
    "#  Standardize features\n",
    "scaler = StandardScaler()\n",
    "X_scaled = scaler.fit_transform(X)\n",
    "\n",
    "# Apply PCA (keep enough components to explain ~95% variance)\n",
    "pca = PCA(n_components=0.95)  # choose components that explain 95% variance\n",
    "X_pca = pca.fit_transform(X_scaled)\n",
    "\n",
    "print(\"Original shape:\", X.shape)\n",
    "print(\"Reduced shape after PCA:\", X_pca.shape)\n",
    "print(\"Explained variance ratio:\", pca.explained_variance_ratio_)\n",
    "\n",
    "#Train-test split\n",
    "X_train, X_test, y_train, y_test = train_test_split(X_pca, y, test_size=0.2, random_state=42)\n",
    "\n",
    "#  Train Linear Regression model\n",
    "model = LinearRegression()\n",
    "model.fit(X_train, y_train)\n",
    "\n",
    "#  Predictions\n",
    "y_pred = model.predict(X_test)\n",
    "\n",
    "#  Evaluation\n",
    "r2 = r2_score(y_test, y_pred)\n",
    "mse = mean_squared_error(y_test, y_pred)\n",
    "\n",
    "print(f\"R² Score: {r2:.3f}\")\n",
    "print(f\"Mean Squared Error: {mse:.3f}\")\n",
    "\n",
    "\n",
    "def plot_to_base64():\n",
    "    buffer = io.BytesIO()\n",
    "    plt.savefig(buffer, format='png')\n",
    "    buffer.seek(0)\n",
    "    img_str = base64.b64encode(buffer.getvalue()).decode(\"utf-8\")\n",
    "    buffer.close()\n",
    "    plt.close()  # close current figure\n",
    "    return img_str\n",
    "    \n",
    "# VISUALIZATIONS \n",
    "\n",
    "# (A) Scree Plot\n",
    "plt.figure(figsize=(6,4))\n",
    "plt.plot(np.cumsum(pca.explained_variance_ratio_), marker='o')\n",
    "plt.xlabel(\"Number of Principal Components\")\n",
    "plt.ylabel(\"Cumulative Explained Variance\")\n",
    "plt.title(\"Scree Plot - PCA on Boston Housing\")\n",
    "plt.grid()\n",
    "scree_plot = plot_to_base64()\n",
    "plt.show()\n",
    "\n",
    "# (B) Scatter plot\n",
    "plt.figure(figsize=(8,6))\n",
    "plt.scatter(X_pca[:,0], X_pca[:,1], c=y, cmap=\"viridis\", edgecolor=\"k\")\n",
    "plt.colorbar(label=\"House Price ($1000s)\")\n",
    "plt.xlabel(\"Principal Component 1\")\n",
    "plt.ylabel(\"Principal Component 2\")\n",
    "plt.title(\"Boston Housing - PCA Visualization\")\n",
    "scatter_plot = plot_to_base64()\n",
    "plt.show()\n",
    "\n",
    "# (C) Actual vs Predicted\n",
    "plt.figure(figsize=(6,6))\n",
    "plt.scatter(y_test, y_pred, edgecolor=\"k\", alpha=0.7)\n",
    "plt.plot([y.min(), y.max()], [y.min(), y.max()], \"r--\", lw=2)\n",
    "plt.xlabel(\"Actual Prices\")\n",
    "plt.ylabel(\"Predicted Prices\")\n",
    "plt.title(\"Actual vs Predicted House Prices\")\n",
    "pred_plot = plot_to_base64()\n",
    "plt.show()\n",
    "\n",
    "# (D) Residuals Plot\n",
    "residuals = y_test - y_pred\n",
    "plt.figure(figsize=(6,4))\n",
    "plt.scatter(y_pred, residuals, edgecolor=\"k\", alpha=0.7)\n",
    "plt.axhline(y=0, color=\"r\", linestyle=\"--\")\n",
    "plt.xlabel(\"Predicted Prices\")\n",
    "plt.ylabel(\"Residuals\")\n",
    "plt.title(\"Residuals Plot\")\n",
    "resid_plot = plot_to_base64()\n",
    "plt.show()\n",
    "\n",
    "pipeline = {\n",
    "    'scaler': scaler,\n",
    "    'pca': pca,\n",
    "    'model': model,\n",
    "    \"mse\": round(mse, 3),\n",
    "    \"r2\": round(r2, 3),\n",
    "    \"plots\": {\n",
    "        \"scree\": scree_plot,\n",
    "        \"scatter\": scatter_plot,\n",
    "        \"predicted\": pred_plot,\n",
    "        \"residuals\": resid_plot\n",
    "    }\n",
    "}\n",
    " \n",
    "joblib.dump(pipeline, 'model.pkl')\n",
    "print(\"Model saved to model.pkl\")"
   ]
  },
  {
   "cell_type": "code",
   "execution_count": 1,
   "id": "7857c781-aa99-4603-9dd7-b14233ed4864",
   "metadata": {},
   "outputs": [
    {
     "name": "stdout",
     "output_type": "stream",
     "text": [
      "<class 'dict'>\n",
      "{'scaler': StandardScaler(), 'pca': PCA(n_components=0.95), 'model': LinearRegression()}\n"
     ]
    }
   ],
   "source": [
    "import joblib\n",
    "\n",
    "data = joblib.load(\"model.pkl\")\n",
    "print(type(data))\n",
    "print(data)\n"
   ]
  },
  {
   "cell_type": "code",
   "execution_count": 11,
   "id": "5255462c-2ab4-4cba-ba0b-ee3f2aacdcde",
   "metadata": {},
   "outputs": [
    {
     "name": "stdout",
     "output_type": "stream",
     "text": [
      "<class 'dict'>\n",
      "dict_keys(['scaler', 'pca', 'model', 'mse', 'r2', 'plots'])\n"
     ]
    }
   ],
   "source": [
    "import joblib\n",
    "\n",
    "model_stuff = joblib.load(\"model.pkl\")  # adjust path if needed\n",
    "print(type(model_stuff))\n",
    "print(model_stuff.keys())\n"
   ]
  },
  {
   "cell_type": "code",
   "execution_count": null,
   "id": "38580074-3780-4062-bd8b-66e4e43e6b63",
   "metadata": {},
   "outputs": [],
   "source": []
  }
 ],
 "metadata": {
  "kernelspec": {
   "display_name": "Python [conda env:base] *",
   "language": "python",
   "name": "conda-base-py"
  },
  "language_info": {
   "codemirror_mode": {
    "name": "ipython",
    "version": 3
   },
   "file_extension": ".py",
   "mimetype": "text/x-python",
   "name": "python",
   "nbconvert_exporter": "python",
   "pygments_lexer": "ipython3",
   "version": "3.12.7"
  }
 },
 "nbformat": 4,
 "nbformat_minor": 5
}
